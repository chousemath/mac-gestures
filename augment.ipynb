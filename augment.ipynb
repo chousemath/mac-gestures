{
 "cells": [
  {
   "cell_type": "code",
   "execution_count": 17,
   "metadata": {},
   "outputs": [],
   "source": [
    "import cv2\n",
    "import os\n",
    "import random\n",
    "import numpy as np\n",
    "import smartcrop\n",
    "from PIL import Image\n",
    "from pprint import pprint\n",
    "import shutil"
   ]
  },
  {
   "cell_type": "code",
   "execution_count": 18,
   "metadata": {},
   "outputs": [],
   "source": [
    "def translate_image(img, x, y):\n",
    "    num_rows, num_cols = img.shape[:2]\n",
    "    translation_matrix = np.float32([[1, 0, x], [0, 1, y]])\n",
    "    img_translation = cv2.warpAffine(\n",
    "        img, translation_matrix, (num_cols, num_rows))\n",
    "    return img_translation[max(y, 0):num_rows-abs(y), max(x, 0):num_cols-abs(x)]\n",
    "\n",
    "def add_noise_saltpepper(image, amount):\n",
    "    row, col, ch = image.shape\n",
    "    s_vs_p = 0.5\n",
    "    out = np.copy(image)\n",
    "    # Salt mode\n",
    "    num_salt = np.ceil(amount * image.size * s_vs_p)\n",
    "    coords = [np.random.randint(0, i - 1, int(num_salt))\n",
    "              for i in image.shape]\n",
    "    out[coords] = 1\n",
    "    # Pepper mode\n",
    "    num_pepper = np.ceil(amount * image.size * (1. - s_vs_p))\n",
    "    coords = [np.random.randint(0, i - 1, int(num_pepper))\n",
    "              for i in image.shape]\n",
    "    out[coords] = 0\n",
    "    return out\n",
    "\n",
    "def add_noise_gaussian(image, mean: float, var: float):\n",
    "    row, col, ch = image.shape\n",
    "    sigma = var**0.5\n",
    "    gauss = np.random.normal(mean, sigma, (row, col, ch))\n",
    "    gauss = gauss.reshape(row, col, ch)\n",
    "    noisy = image + gauss\n",
    "    return noisy"
   ]
  },
  {
   "cell_type": "code",
   "execution_count": 19,
   "metadata": {},
   "outputs": [
    {
     "name": "stderr",
     "output_type": "stream",
     "text": [
      "/Users/jo/.local/lib/python3.6/site-packages/ipykernel_launcher.py:16: FutureWarning: Using a non-tuple sequence for multidimensional indexing is deprecated; use `arr[tuple(seq)]` instead of `arr[seq]`. In the future this will be interpreted as an array index, `arr[np.array(seq)]`, which will result either in an error or a different result.\n",
      "  app.launch_new_instance()\n",
      "/Users/jo/.local/lib/python3.6/site-packages/ipykernel_launcher.py:21: FutureWarning: Using a non-tuple sequence for multidimensional indexing is deprecated; use `arr[tuple(seq)]` instead of `arr[seq]`. In the future this will be interpreted as an array index, `arr[np.array(seq)]`, which will result either in an error or a different result.\n"
     ]
    }
   ],
   "source": [
    "root = '/Volumes/TriveStorage/code/trive-image-recognition/gestures'\n",
    "classes = [x for x in os.listdir(root) if x != '.DS_Store' and x != 'gauss' and x != 'sp' and x != 'for_training' and x != 'for_training.zip']\n",
    "\n",
    "gauss_path = os.path.join(root, 'gauss')\n",
    "sp_path = os.path.join(root, 'sp')\n",
    "if not os.path.exists(gauss_path):\n",
    "    os.mkdir(gauss_path)\n",
    "if not os.path.exists(sp_path):\n",
    "    os.mkdir(sp_path)\n",
    "\n",
    "for cl in classes:\n",
    "    class_path = os.path.join(root, cl)\n",
    "    \n",
    "    dst = os.path.join(sp_path, cl)\n",
    "    if not os.path.exists(dst):\n",
    "        os.mkdir(dst)\n",
    "    for image_name in [x for x in os.listdir(class_path) if x != '.DS_Store']:\n",
    "        try:\n",
    "            image_dst = os.path.join(dst, image_name)\n",
    "            if os.path.exists(image_dst):\n",
    "                continue\n",
    "            image_path = os.path.join(class_path, image_name)\n",
    "            cv2.imwrite(image_dst, add_noise_saltpepper(cv2.imread(image_path), 0.01))\n",
    "        except Exception as e:\n",
    "            print(e)\n",
    "    \n",
    "    dst = os.path.join(gauss_path, cl)\n",
    "    if not os.path.exists(dst):\n",
    "        os.mkdir(dst)\n",
    "    for image_name in [x for x in os.listdir(class_path) if x != '.DS_Store']:\n",
    "        try:\n",
    "            image_dst = os.path.join(dst, image_name)\n",
    "            if os.path.exists(image_dst):\n",
    "                continue\n",
    "            image_path = os.path.join(class_path, image_name)\n",
    "            cv2.imwrite(image_dst, add_noise_gaussian(cv2.imread(image_path), 0, 0.6))\n",
    "        except Exception as e:\n",
    "            print(e)\n",
    "\n"
   ]
  },
  {
   "cell_type": "code",
   "execution_count": null,
   "metadata": {},
   "outputs": [],
   "source": []
  }
 ],
 "metadata": {
  "kernelspec": {
   "display_name": "Python 3",
   "language": "python",
   "name": "python3"
  },
  "language_info": {
   "codemirror_mode": {
    "name": "ipython",
    "version": 3
   },
   "file_extension": ".py",
   "mimetype": "text/x-python",
   "name": "python",
   "nbconvert_exporter": "python",
   "pygments_lexer": "ipython3",
   "version": "3.6.7"
  }
 },
 "nbformat": 4,
 "nbformat_minor": 2
}
