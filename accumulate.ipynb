{
 "cells": [
  {
   "cell_type": "code",
   "execution_count": 13,
   "metadata": {},
   "outputs": [],
   "source": [
    "import os\n",
    "from pprint import pprint\n",
    "import shutil\n",
    "import random"
   ]
  },
  {
   "cell_type": "code",
   "execution_count": 14,
   "metadata": {},
   "outputs": [],
   "source": [
    "root = '/Volumes/TriveStorage/code/trive-image-recognition/gestures'\n",
    "classes = [x for x in os.listdir(root) if x != '.DS_Store' and x != 'gauss' and x != 'sp' and x != 'for_training' and x != 'for_training.zip']\n",
    "gauss_path = os.path.join(root, 'gauss')\n",
    "sp_path = os.path.join(root, 'sp')"
   ]
  },
  {
   "cell_type": "code",
   "execution_count": 15,
   "metadata": {},
   "outputs": [],
   "source": [
    "data = {}\n",
    "for cl in classes:\n",
    "    if cl not in data:\n",
    "        data[cl] = []\n",
    "\n",
    "    class_path = os.path.join(root, cl)\n",
    "    data[cl] += [os.path.join(class_path, x) for x in os.listdir(class_path) if x != '.DS_Store']\n",
    "\n",
    "    class_path = os.path.join(gauss_path, cl)\n",
    "    data[cl] += [os.path.join(class_path, x) for x in os.listdir(class_path) if x != '.DS_Store']\n",
    "    \n",
    "    class_path = os.path.join(sp_path, cl)\n",
    "    data[cl] += [os.path.join(class_path, x) for x in os.listdir(class_path) if x != '.DS_Store']\n",
    "    \n"
   ]
  },
  {
   "cell_type": "code",
   "execution_count": 16,
   "metadata": {},
   "outputs": [],
   "source": [
    "data_path = os.path.join(root, 'for_training')\n",
    "if os.path.exists(data_path):\n",
    "    shutil.rmtree(data_path, ignore_errors=True)\n",
    "os.mkdir(data_path)\n",
    "\n",
    "train_path = os.path.join(data_path, 'train')\n",
    "if os.path.exists(train_path):\n",
    "    shutil.rmtree(train_path, ignore_errors=True)\n",
    "os.mkdir(train_path)\n",
    "\n",
    "test_path = os.path.join(data_path, 'test')\n",
    "if os.path.exists(test_path):\n",
    "    shutil.rmtree(test_path, ignore_errors=True)\n",
    "os.mkdir(test_path)\n",
    "\n",
    "for key in data:\n",
    "    dst_train = os.path.join(train_path, key)\n",
    "    dst_test = os.path.join(test_path, key)\n",
    "    \n",
    "    if os.path.exists(dst_train):\n",
    "        shutil.rmtree(dst_train, ignore_errors=True)\n",
    "    os.mkdir(dst_train)\n",
    "    \n",
    "    if os.path.exists(dst_test):\n",
    "        shutil.rmtree(dst_test, ignore_errors=True)\n",
    "    os.mkdir(dst_test)\n",
    "    \n",
    "    random.shuffle(data[key])\n",
    "    \n",
    "    for img in data[key][:2000]:\n",
    "        shutil.copy2(img, dst_train)\n",
    "    for img in data[key][2000:2200]:\n",
    "        shutil.copy2(img, dst_test)"
   ]
  },
  {
   "cell_type": "code",
   "execution_count": null,
   "metadata": {},
   "outputs": [],
   "source": []
  }
 ],
 "metadata": {
  "kernelspec": {
   "display_name": "Python 3",
   "language": "python",
   "name": "python3"
  },
  "language_info": {
   "codemirror_mode": {
    "name": "ipython",
    "version": 3
   },
   "file_extension": ".py",
   "mimetype": "text/x-python",
   "name": "python",
   "nbconvert_exporter": "python",
   "pygments_lexer": "ipython3",
   "version": "3.6.7"
  }
 },
 "nbformat": 4,
 "nbformat_minor": 2
}
